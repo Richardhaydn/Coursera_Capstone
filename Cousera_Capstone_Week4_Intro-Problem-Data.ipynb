{
 "cells": [
  {
   "cell_type": "markdown",
   "metadata": {},
   "source": [
    "# Coursera Capstone Project - Applied Data Science Specialization\n"
   ]
  },
  {
   "cell_type": "markdown",
   "metadata": {},
   "source": [
    "## Richard Cox\n",
    "## rigdog@me.com\n",
    "## June 2020\n"
   ]
  },
  {
   "cell_type": "markdown",
   "metadata": {},
   "source": [
    "### -------------------------"
   ]
  },
  {
   "cell_type": "markdown",
   "metadata": {},
   "source": [
    "# INTRODUCTION\n",
    "This project seeks to showcase the knowledge and skills acquired on my path to a Data Science Specialization with Coursera. I will attempt to solve a simulated real-world problem entirely with Python, employing various web scraping, data wrangling, data visualization and machine learning techniques. Within the code, I will utilize data returned through API calls to Foursquare to meet the requirements of this assignment. \n",
    "\n",
    "All code will be written in Python, tested and published from a Jupyter Notebook within Watson Studio on IBM Cloud. The code will be made available on Github through the links provided at the end of this exercise.\n"
   ]
  },
  {
   "cell_type": "markdown",
   "metadata": {},
   "source": [
    "### -------"
   ]
  },
  {
   "cell_type": "markdown",
   "metadata": {},
   "source": [
    "## PROBLEM DESCRIPTION\n",
    "This project will attempt to solve to the problem of selecting the ideal number and locations for Warehouses or Distribution Centers. This question often emerges at some point in the growth of a business whether it is expending across a county, state or nation. \n",
    "\n",
    "Picking the best locations for a distribution center can, among other things, reduce cost, improve efficiency, reduce lead time on fulfillment of orders, reduce length of delivery routes and therefore lower driver risk & insurance costs. \n",
    "\n",
    "Conversely, too few or poorly located distribution centers can overload workers, increase overtime pay, reduce productivity, lengthen delivery routes, increase cost of delivery, increase delivery times and risking spoilage if the product is of a perishable nature. \n"
   ]
  },
  {
   "cell_type": "markdown",
   "metadata": {},
   "source": [
    "### PROBLEM SCENARIO\n",
    "A supplier of daily meals to High School Cafeterias across Orange County-Florida has just been awarded the contract to supply all schools within a specified area, defined within a 20mile radius of county center. To fulfill this contract, he will need to expand his food preparation and storage facilities as well as strategically position them to permit dependable and timely delivery considering the perishable nature of the product (food).\n"
   ]
  },
  {
   "cell_type": "markdown",
   "metadata": {},
   "source": [
    "### QUESTION:\n",
    "**How many preparation/distribution facilities should he rent and what are the best locations for these facilities?**\n"
   ]
  },
  {
   "cell_type": "markdown",
   "metadata": {},
   "source": [
    "### -------"
   ]
  },
  {
   "cell_type": "markdown",
   "metadata": {},
   "source": [
    "## BACKGROUND\n",
    "\n",
    "A frequently encountered problem within the business world among medium to large businesses seeking to expand their distribution networks. The question of how many and where to setup distribution centers can greatly impact the bottom line of the business.\n",
    "\n",
    "Typically, the question answers itself through trial and error with companies selecting locations within the general vicinity of its most frequent clients. Unfortunately, as they expand they could experience the ill effects of too few or poorly located distribution centers before a decision is made to take corrective action. The hope is that action is taken before customer are lost. \n",
    "\n",
    "The simple answer to such a problem is one of picking central locations among groups of customers and can be broken down into the following broad steps;\n",
    "i. Pinpoint the delivery locations of all customers\n",
    "ii. Gather these customers into groups \n",
    "iii. Finding the central location among these groups\n",
    "\n",
    "With the variety of libraries and modules available within Python, this problem is apt for a programmatic solution through data science. \n",
    "\n",
    "There are many approaches and solutions to this question. Many involved suggestions and discussions can be found through a simple web search (sample links provided below). My approach focuses only on geographical data for the relatively small scale of the problem scenario.\n"
   ]
  },
  {
   "cell_type": "markdown",
   "metadata": {},
   "source": [
    "### -------"
   ]
  },
  {
   "cell_type": "markdown",
   "metadata": {},
   "source": [
    "### TARGET AUDIENCE\n",
    "\n",
    "This project and approach should be of interest to businesses seeking to expand storage, warehousing or distribution facilities to meet customer demands across large areas; cross county, state or country. \n",
    "\n",
    "This implementation, while simple, explores the use of unsupervised machine learning techniques to provide an answer to a common business question. This key limitation here is available data. The larger the collection of related factors, the greater the potential insights from leveraging data science techniques.\n"
   ]
  },
  {
   "cell_type": "markdown",
   "metadata": {},
   "source": [
    "Link: [locations with k-means_Marton Trencseni](http://bytepawn.com/warehouse-locations-with-kmeans.htmlWarehouse)\n",
    "\n",
    "Link: [Selection of warehouse location for a global supply chain: A case study (Rajesh Kr Singh Nikhil Chaudhary, bNikhil Saxena](https://www.sciencedirect.com/science/article/pii/S0970389618304622)\n",
    "\n",
    "Link: [Choosing a Warehouse Location: 7 Critical Criteria to Consider - CYZERG Warehouse Technonogy](https://articles.cyzerg.com/choosing-a-warehouse-location-7-critical-criteria-to-consider)\n"
   ]
  },
  {
   "cell_type": "markdown",
   "metadata": {},
   "source": [
    "### -------------------------"
   ]
  },
  {
   "cell_type": "markdown",
   "metadata": {},
   "source": [
    "# DATA SECTION\n",
    "\n",
    "### DATA SOURCES & PROGRESSION TOWARDS SOLUTION\n",
    "This implementation, as described above can approached in three simple steps, the first of which involves determining the location of each client. This data is key to this implementation and is acquired through API calls within the Python code.\n",
    "\n",
    "Foursquare popularized the concept of location sharing back in 2009 and today leverages the location data collected to serve approximately 150,000 partners through their developer tools. Due to its extensive database and accessibility, Foursquare is the location provider of choice for locating the geographical coordinates of the target schools. The figure1 below shows a sample of the web based search results.\n"
   ]
  },
  {
   "cell_type": "markdown",
   "metadata": {},
   "source": [
    "https://github.com/Richardhaydn/Coursera_Capstone/blob/master/Figure1.png"
   ]
  },
  {
   "cell_type": "markdown",
   "metadata": {},
   "source": [
    "The free online encyclopedia, Wikipedia (https://en.wikipedia.org) was also consulted during this project but only as a reference for general information on the county selected.\n",
    "\n",
    "The API call returns the requested data in JavaScript Object Notation (JSON), from which the required data (e.g., names, addresses and geographical coordinates) needs to be extracted, filtered, corrected and formatted into a pandas DataFrame for analysis within Python. The figure2 shows an example of JSON results.\n"
   ]
  },
  {
   "cell_type": "markdown",
   "metadata": {},
   "source": [
    "https://github.com/Richardhaydn/Coursera_Capstone/blob/master/Figure2.png"
   ]
  },
  {
   "cell_type": "markdown",
   "metadata": {},
   "source": [
    "Following data extraction and wrangling into an easily manipulated pandas DataFrame, the data will be initially explored through Data Visualizations due to the spatial approach chosen. \n",
    "\n",
    "From here the coordinates for each school will be fed into a machine learning model to perform unsupervised grouping of these schools. \n",
    "\n",
    "The K-Means algorithm is designed to cluster observations in a way that minimizes the separation within clusters and maximizes the separation between clusters. The underlying method of k-means suggests is suitability for this application as one of the goals is to minimize distances from distribution centers. More on the use of K-Means will follow in the Methodology section. \n",
    "\n",
    "The data provided and insights gained from the results of this algorithm will again be analyzed through Data Visualizations to **extract the ideal number of distribution centers and their precise locations.**\n"
   ]
  },
  {
   "cell_type": "markdown",
   "metadata": {},
   "source": [
    "### -------------------------\n"
   ]
  }
 ],
 "metadata": {
  "kernelspec": {
   "display_name": "Python 3.8.2 64-bit",
   "language": "python",
   "name": "python38264bite73e9f8e56614d8ca99346534a27baa5"
  },
  "language_info": {
   "codemirror_mode": {
    "name": "ipython",
    "version": 3
   },
   "file_extension": ".py",
   "mimetype": "text/x-python",
   "name": "python",
   "nbconvert_exporter": "python",
   "pygments_lexer": "ipython3",
   "version": "3.8.3"
  }
 },
 "nbformat": 4,
 "nbformat_minor": 4
}
